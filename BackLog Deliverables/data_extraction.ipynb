{
 "cells": [
  {
   "cell_type": "markdown",
   "metadata": {},
   "source": [
    "# Data Extraction and Loading Backlog\n",
    "\n",
    "**Goal:** \n",
    " * To use a cloud storage servie to host the data lake environment \n",
    "\n",
    "**Solution:**\n",
    " * AWS s3"
   ]
  },
  {
   "cell_type": "markdown",
   "metadata": {},
   "source": [
    "### Extraction Steps Executed:\n",
    "**Source**\n",
    "The dataset is sourced from: \n",
    "https://catalog.data.gov/dataset/nyc-jobs\n",
    "\n",
    "**Format**\n",
    "The data is stored as CSV file on an Amazon s3 bucket \n",
    "\n",
    "**Scope**\n",
    "The data includes information about government job postings in NYC\n",
    "\n"
   ]
  },
  {
   "cell_type": "markdown",
   "metadata": {},
   "source": [
    "### Extraction Logic:\n",
    "**Method**\n",
    "Utalize AWS s3 for storing and accessing the data, by uploading a structured file to the s3 Buket \n",
    "\n",
    "**Extraction Process**\n",
    "Develop a script to access and download the file from the s3 bucket.  Use Python Boto3 to interact with the s3 bucket. "
   ]
  },
  {
   "cell_type": "markdown",
   "metadata": {},
   "source": [
    "### Justification for Chosen Method:\n",
    "\n",
    "**AWS s3**\n",
    "Using s3 provides a secure and reliable solution for storing and accessing large datasets. It has great features such as encryption and acccess control to manage data effectively.\n",
    "\n",
    "**Data Partitioning**\n",
    "s3 allows good organization of data into folders based on criteria such as category and date that facilitates faster data retrieval and analysis."
   ]
  },
  {
   "cell_type": "code",
   "execution_count": null,
   "metadata": {},
   "outputs": [],
   "source": [
    "import json\n",
    "import boto3\n",
    "import pandas as pd\n",
    "import requests\n",
    "\n",
    "s3 = boto3.client('s3')\n",
    "\n",
    "\n",
    "def lambda_handler(event, context):\n",
    "    bucket ='semistructuredata'\n",
    "    url = 'https://data.cityofnewyork.us/resource/kpav-sd4t.json'\n",
    "    \n",
    "    params = {'$limit': 1000}\n",
    "    response = requests.get(url,params=params)\n",
    "    data = response.json()\n",
    "\n",
    "\n",
    "    df = pd.DataFrame(data)\n",
    "    df.drop_duplicates(inplace=True)\n",
    "    \n",
    "    \n",
    "    csv_data = df.to_csv(index=False)\n",
    "    fileName = 'data1.csv'\n",
    "    uploadByteStream = bytes(csv_data.encode('utf-8'))\n",
    "    s3.put_object(Bucket=bucket, Key=fileName, Body=uploadByteStream)\n",
    "    print('Put Complete')\n",
    "    \n",
    "    \n"
   ]
  },
  {
   "cell_type": "markdown",
   "metadata": {},
   "source": [
    "## Layout of s3:\n",
    "![s3 Bucket](./static/s3bucket.png)\n",
    "## Objects in Bucket:\n",
    "![objectsInBucket](./static/objectsInBucket.png)\n",
    "## Creating a Lambda Function to read s3 bucket:\n",
    "![Lambda](./static/lambda.png)"
   ]
  }
 ],
 "metadata": {
  "kernelspec": {
   "display_name": "Python 3",
   "language": "python",
   "name": "python3"
  },
  "language_info": {
   "name": "python",
   "version": "3.12.1"
  }
 },
 "nbformat": 4,
 "nbformat_minor": 2
}
